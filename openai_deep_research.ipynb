{
 "cells": [
  {
   "cell_type": "markdown",
   "id": "f122d83a",
   "metadata": {},
   "source": [
    "# OpenAI Deep Research"
   ]
  },
  {
   "cell_type": "markdown",
   "id": "8a7b9018",
   "metadata": {},
   "source": [
    "Recently, OpenAI has released API access to its deep research models. This notebook provides a quick overview of how to use these models for research purposes, including evaluating startups, value judgments, gathering info from web and making high-level comparisons."
   ]
  },
  {
   "cell_type": "code",
   "execution_count": null,
   "id": "91d19728",
   "metadata": {},
   "outputs": [
    {
     "data": {
      "text/plain": [
       "True"
      ]
     },
     "execution_count": 1,
     "metadata": {},
     "output_type": "execute_result"
    }
   ],
   "source": [
    "import os\n",
    "import json\n",
    "import logging\n",
    "from typing import Dict, List, Any, TypedDict\n",
    "from datetime import datetime\n",
    "import requests\n",
    "from time import sleep\n",
    "from bs4 import BeautifulSoup\n",
    "from dotenv import load_dotenv\n",
    "\n",
    "# LangChain imports\n",
    "from langchain_core.messages import HumanMessage, AIMessage, SystemMessage\n",
    "from langchain_core.tools import tool\n",
    "from langchain_openai import ChatOpenAI\n",
    "from langchain_anthropic import ChatAnthropic\n",
    "from langchain.agents import create_react_agent\n",
    "from langchain.prompts import PromptTemplate\n",
    "from langchain_core.prompts import ChatPromptTemplate, MessagesPlaceholder\n",
    "\n",
    "# LangGraph imports\n",
    "from langgraph.graph import StateGraph, MessagesState, START, END\n",
    "from langgraph.prebuilt import create_react_agent\n",
    "from langgraph.checkpoint.memory import MemorySaver\n",
    "from langgraph.types import Command, interrupt\n",
    "\n",
    "# Tavily search tool from LangChain Community\n",
    "from langchain_tavily import TavilySearch\n",
    "\n",
    "# Native OpenAI imports\n",
    "from openai import OpenAI\n",
    "\n",
    "# Load environment variables\n",
    "load_dotenv()"
   ]
  },
  {
   "cell_type": "code",
   "execution_count": 3,
   "id": "ae1647cc",
   "metadata": {},
   "outputs": [
    {
     "name": "stderr",
     "output_type": "stream",
     "text": [
      "2025-06-30 09:29:17 - research_workflow - INFO - ✅ All imports and logging setup successful!\n"
     ]
    }
   ],
   "source": [
    "# Configure logging\n",
    "def setup_logging(level: str = \"INFO\", log_file: str = None):\n",
    "    \"\"\"Setup logging configuration\"\"\"\n",
    "    \n",
    "    # Create custom formatter\n",
    "    formatter = logging.Formatter(\n",
    "        '%(asctime)s - %(name)s - %(levelname)s - %(message)s',\n",
    "        datefmt='%Y-%m-%d %H:%M:%S'\n",
    "    )\n",
    "    \n",
    "    # Setup root logger\n",
    "    root_logger = logging.getLogger()\n",
    "    root_logger.setLevel(getattr(logging, level.upper()))\n",
    "    \n",
    "    # Clear existing handlers\n",
    "    root_logger.handlers.clear()\n",
    "    \n",
    "    # Console handler\n",
    "    console_handler = logging.StreamHandler()\n",
    "    console_handler.setFormatter(formatter)\n",
    "    root_logger.addHandler(console_handler)\n",
    "    \n",
    "    # File handler (optional)\n",
    "    if log_file:\n",
    "        file_handler = logging.FileHandler(log_file, encoding='utf-8')\n",
    "        file_handler.setFormatter(formatter)\n",
    "        root_logger.addHandler(file_handler)\n",
    "    \n",
    "    # Configure LangChain/LangGraph specific loggers\n",
    "    langchain_logger = logging.getLogger(\"langchain\")\n",
    "    langchain_logger.setLevel(getattr(logging, level.upper()))\n",
    "    \n",
    "    langgraph_logger = logging.getLogger(\"langgraph\")\n",
    "    langgraph_logger.setLevel(getattr(logging, level.upper()))\n",
    "    \n",
    "    # Create application logger\n",
    "    app_logger = logging.getLogger(\"research_workflow\")\n",
    "    app_logger.setLevel(getattr(logging, level.upper()))\n",
    "    \n",
    "    return app_logger\n",
    "\n",
    "# Setup default logging\n",
    "logger = setup_logging(\"INFO\")\n",
    "logger.info(\"\\N{WHITE HEAVY CHECK MARK} All imports and logging setup successful!\")"
   ]
  },
  {
   "cell_type": "code",
   "execution_count": null,
   "id": "a144cf8f",
   "metadata": {},
   "outputs": [],
   "source": [
    "fast_model = \"o4-mini-deep-research\"\n",
    "smart_model = \"o3-deep-research\""
   ]
  },
  {
   "cell_type": "code",
   "execution_count": null,
   "id": "c2fe430e",
   "metadata": {},
   "outputs": [],
   "source": [
    "client = OpenAI(timeout=3600)\n",
    "\n",
    "input_text = \"\"\"\n",
    "Research the economic impact of semaglutide on global healthcare systems.\n",
    "Do:\n",
    "- Include specific figures, trends, statistics, and measurable outcomes.\n",
    "- Prioritize reliable, up-to-date sources: peer-reviewed research, health\n",
    "  organizations (e.g., WHO, CDC), regulatory agencies, or pharmaceutical\n",
    "  earnings reports.\n",
    "- Include inline citations and return all source metadata.\n",
    "\n",
    "Be analytical, avoid generalities, and ensure that each section supports\n",
    "data-backed reasoning that could inform healthcare policy or financial modeling.\n",
    "\"\"\"\n",
    "\n",
    "response = client.responses.create(\n",
    "  model=\"o4-mini-deep-research\",\n",
    "  input=input_text,\n",
    "  tools=[\n",
    "    {\"type\": \"web_search_preview\"},\n",
    "    {\"type\": \"code_interpreter\", \"container\": {\"type\": \"auto\"}},\n",
    "  ],\n",
    "  background=True\n",
    ")\n",
    "\n",
    "while resp.status in {\"queued\", \"in_progress\"}:\n",
    "  print(f\"Current status: {resp.status}\")\n",
    "  sleep(2)\n",
    "  resp = client.responses.retrieve(resp.id)\n",
    "\n",
    "final_output = resp.output_text\n",
    "\n",
    "print(f\"Final status: {resp.status}\\nOutput:\\n{resp.output_text}\")"
   ]
  }
 ],
 "metadata": {
  "kernelspec": {
   "display_name": "deep-research-workflows",
   "language": "python",
   "name": "python3"
  },
  "language_info": {
   "codemirror_mode": {
    "name": "ipython",
    "version": 3
   },
   "file_extension": ".py",
   "mimetype": "text/x-python",
   "name": "python",
   "nbconvert_exporter": "python",
   "pygments_lexer": "ipython3",
   "version": "3.11.9"
  }
 },
 "nbformat": 4,
 "nbformat_minor": 5
}
